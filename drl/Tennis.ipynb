{
 "cells": [
  {
   "cell_type": "markdown",
   "metadata": {},
   "source": [
    "# Collaboration and Competition\n",
    "\n",
    "---\n",
    "\n",
    "In this notebook, you will learn how to use the Unity ML-Agents environment for the third project of the [Deep Reinforcement Learning Nanodegree](https://www.udacity.com/course/deep-reinforcement-learning-nanodegree--nd893) program.\n",
    "\n",
    "### 1. Start the Environment\n",
    "\n",
    "We begin by importing the necessary packages.  If the code cell below returns an error, please revisit the project instructions to double-check that you have installed [Unity ML-Agents](https://github.com/Unity-Technologies/ml-agents/blob/master/docs/Installation.md) and [NumPy](http://www.numpy.org/)."
   ]
  },
  {
   "cell_type": "code",
   "execution_count": 1,
   "metadata": {},
   "outputs": [],
   "source": [
    "from unityagents import UnityEnvironment\n",
    "import numpy as np\n",
    "import tensorboardX\n",
    "import torch.optim.lr_scheduler as lr_scheduler\n",
    "import torch\n",
    "import time\n",
    "import os\n",
    "\n",
    "from PPO_1 import PPOAgent, GaussianPolicyActorCritic, TBMeanTracker, RewardTracker, TrajectoryCollector\n",
    "\n",
    "from IPython.core.interactiveshell import InteractiveShell\n",
    "InteractiveShell.ast_node_interactivity = \"all\""
   ]
  },
  {
   "cell_type": "markdown",
   "metadata": {},
   "source": [
    "Next, we will start the environment!  **_Before running the code cell below_**, change the `file_name` parameter to match the location of the Unity environment that you downloaded.\n",
    "\n",
    "- **Mac**: `\"path/to/Tennis.app\"`\n",
    "- **Windows** (x86): `\"path/to/Tennis_Windows_x86/Tennis.exe\"`\n",
    "- **Windows** (x86_64): `\"path/to/Tennis_Windows_x86_64/Tennis.exe\"`\n",
    "- **Linux** (x86): `\"path/to/Tennis_Linux/Tennis.x86\"`\n",
    "- **Linux** (x86_64): `\"path/to/Tennis_Linux/Tennis.x86_64\"`\n",
    "- **Linux** (x86, headless): `\"path/to/Tennis_Linux_NoVis/Tennis.x86\"`\n",
    "- **Linux** (x86_64, headless): `\"path/to/Tennis_Linux_NoVis/Tennis.x86_64\"`\n",
    "\n",
    "For instance, if you are using a Mac, then you downloaded `Tennis.app`.  If this file is in the same folder as the notebook, then the line below should appear as follows:\n",
    "```\n",
    "env = UnityEnvironment(file_name=\"Tennis.app\")\n",
    "```"
   ]
  },
  {
   "cell_type": "code",
   "execution_count": 2,
   "metadata": {},
   "outputs": [
    {
     "name": "stderr",
     "output_type": "stream",
     "text": [
      "INFO:unityagents:\n",
      "'Academy' started successfully!\n",
      "Unity Academy name: Academy\n",
      "        Number of Brains: 1\n",
      "        Number of External Brains : 1\n",
      "        Lesson number : 0\n",
      "        Reset Parameters :\n",
      "\t\t\n",
      "Unity brain name: TennisBrain\n",
      "        Number of Visual Observations (per agent): 0\n",
      "        Vector Observation space type: continuous\n",
      "        Vector Observation space size (per agent): 8\n",
      "        Number of stacked Vector Observation: 3\n",
      "        Vector Action space type: continuous\n",
      "        Vector Action space size (per agent): 2\n",
      "        Vector Action descriptions: , \n"
     ]
    }
   ],
   "source": [
    "env = UnityEnvironment(file_name=\"Tennis_Win/Tennis\")"
   ]
  },
  {
   "cell_type": "markdown",
   "metadata": {},
   "source": [
    "Environments contain **_brains_** which are responsible for deciding the actions of their associated agents. Here we check for the first brain available, and set it as the default brain we will be controlling from Python."
   ]
  },
  {
   "cell_type": "code",
   "execution_count": 3,
   "metadata": {},
   "outputs": [],
   "source": [
    "# get the default brain\n",
    "brain_name = env.brain_names[0]\n",
    "brain = env.brains[brain_name]\n"
   ]
  },
  {
   "cell_type": "markdown",
   "metadata": {},
   "source": [
    "### 2. Examine the State and Action Spaces\n",
    "\n",
    "In this environment, two agents control rackets to bounce a ball over a net. If an agent hits the ball over the net, it receives a reward of +0.1.  If an agent lets a ball hit the ground or hits the ball out of bounds, it receives a reward of -0.01.  Thus, the goal of each agent is to keep the ball in play.\n",
    "\n",
    "The observation space consists of 8 variables corresponding to the position and velocity of the ball and racket. Two continuous actions are available, corresponding to movement toward (or away from) the net, and jumping. \n",
    "\n",
    "Run the code cell below to print some information about the environment."
   ]
  },
  {
   "cell_type": "code",
   "execution_count": 4,
   "metadata": {},
   "outputs": [
    {
     "name": "stdout",
     "output_type": "stream",
     "text": [
      "Number of agents: 2\n",
      "Size of each action: 2\n",
      "There are 2 agents. Each observes a state with length: 24\n",
      "The state for the first agent looks like: [ 0.          0.          0.          0.          0.          0.\n",
      "  0.          0.          0.          0.          0.          0.\n",
      "  0.          0.          0.          0.         -6.65278625 -1.5\n",
      " -0.          0.          6.83172083  6.         -0.          0.        ]\n"
     ]
    }
   ],
   "source": [
    "# reset the environment\n",
    "env_info = env.reset(train_mode=True)[brain_name]\n",
    "\n",
    "# number of agents \n",
    "num_agents = len(env_info.agents)\n",
    "print('Number of agents:', num_agents)\n",
    "\n",
    "# size of each action\n",
    "action_size = brain.vector_action_space_size\n",
    "print('Size of each action:', action_size)\n",
    "\n",
    "# examine the state space \n",
    "states = env_info.vector_observations\n",
    "state_size = states.shape[1]\n",
    "print('There are {} agents. Each observes a state with length: {}'.format(states.shape[0], state_size))\n",
    "print('The state for the first agent looks like:', states[0])"
   ]
  },
  {
   "cell_type": "markdown",
   "metadata": {},
   "source": [
    "### 3. Take Random Actions in the Environment\n",
    "\n",
    "In the next code cell, you will learn how to use the Python API to control the agents and receive feedback from the environment.\n",
    "\n",
    "Once this cell is executed, you will watch the agents' performance, if they select actions at random with each time step.  A window should pop up that allows you to observe the agents.\n",
    "\n",
    "Of course, as part of the project, you'll have to change the code so that the agents are able to use their experiences to gradually choose better actions when interacting with the environment!"
   ]
  },
  {
   "cell_type": "code",
   "execution_count": null,
   "metadata": {},
   "outputs": [],
   "source": [
    "for i in range(1, 6):                                      # play game for 5 episodes\n",
    "    env_info = env.reset(train_mode=False)[brain_name]     # reset the environment    \n",
    "    states = env_info.vector_observations                  # get the current state (for each agent)\n",
    "    scores = np.zeros(num_agents)                          # initialize the score (for each agent)\n",
    "    while True:\n",
    "        actions = np.random.randn(num_agents, action_size) # select an action (for each agent)\n",
    "        actions = np.clip(actions, -1, 1)                  # all actions between -1 and 1\n",
    "        env_info = env.step(actions)[brain_name]           # send all actions to tne environment\n",
    "        next_states = env_info.vector_observations         # get next state (for each agent)\n",
    "        rewards = env_info.rewards                         # get reward (for each agent)\n",
    "        dones = env_info.local_done                        # see if episode finished\n",
    "        scores += env_info.rewards                         # update the score (for each agent)\n",
    "        states = next_states                               # roll over states to next time step\n",
    "        if np.any(dones):                                  # exit loop if episode finished\n",
    "            break\n",
    "    print('Score (max over agents) from episode {}: {}'.format(i, np.max(scores)))"
   ]
  },
  {
   "cell_type": "markdown",
   "metadata": {},
   "source": [
    "When finished, you can close the environment."
   ]
  },
  {
   "cell_type": "markdown",
   "metadata": {},
   "source": [
    "### 4. Training"
   ]
  },
  {
   "cell_type": "code",
   "execution_count": 5,
   "metadata": {},
   "outputs": [],
   "source": [
    "LR = 1e-03              # learing rate\n",
    "EPSILON = 0.1           # action clipping param: [1-EPSILON, 1+EPSILON]\n",
    "BETA = 0.01             # regularization parameter for entropy term\n",
    "EPOCHS = 20              # train for this number of epochs at a time\n",
    "TMAX = 1024              # maximum trajectory length\n",
    "AVG_WIN = 100           # moving average over...\n",
    "SEED = 12                # leave everything to chance\n",
    "BATCH_SIZE = 128         # number of tgajectories to collect for learning\n",
    "SOLVED_SCORE = 0.5      # score at which we are done (double the required)\n",
    "STEP_DECAY = 2000       # when to decay learning rate\n",
    "GAMMA = 0.99            # discount factor\n",
    "GAE_LAMBDA = 0.96       # lambda-factor in the advantage estimator for PPO\n",
    "\n",
    "debug = False\n",
    "device = torch.device(\"cuda:0\" if torch.cuda.is_available() else \"cpu\")\n"
   ]
  },
  {
   "cell_type": "markdown",
   "metadata": {},
   "source": [
    "#### Setup Training"
   ]
  },
  {
   "cell_type": "code",
   "execution_count": 6,
   "metadata": {},
   "outputs": [],
   "source": [
    "policy = GaussianPolicyActorCritic(state_size + 1, action_size).to(device)\n",
    "\n",
    "writer = tensorboardX.SummaryWriter(comment=f\"-mappo_{SEED}\")\n",
    "\n",
    "trajectory_collector = TrajectoryCollector(env, policy, num_agents, tmax=TMAX, gamma=GAMMA, gae_lambda=GAE_LAMBDA, debug=debug)\n",
    "tb_tracker = TBMeanTracker(writer, EPOCHS)\n",
    "\n",
    "agent = PPOAgent(policy, tb_tracker, LR, EPSILON, BETA)\n",
    "\n",
    "scheduler = lr_scheduler.MultiStepLR(agent.optimizer, [k * STEP_DECAY for k in range(1, 2)], gamma=0.1)\n",
    "n_episodes = 0\n",
    "max_score = - np.Inf\n",
    "\n",
    "traj_attributes = [\"states\", \"actions\", \"log_probs\", \"advantages\", \"returns\"]\n",
    "solved = False\n",
    "start = None\n"
   ]
  },
  {
   "cell_type": "markdown",
   "metadata": {},
   "source": [
    "#### Spin Training Loop"
   ]
  },
  {
   "cell_type": "code",
   "execution_count": 11,
   "metadata": {
    "scrolled": true
   },
   "outputs": [
    {
     "name": "stdout",
     "output_type": "stream",
     "text": [
      "50: reward 0.200, mean reward 0.030, duration 10.07 s\n",
      "100: reward 0.090, mean reward 0.025, duration 10.07 s\n",
      "150: reward 0.000, mean reward 0.023, duration 9.58 s\n",
      "200: reward 0.000, mean reward 0.020, duration 9.58 s\n",
      "250: reward 0.100, mean reward 0.014, duration 9.67 s\n",
      "300: reward 0.000, mean reward 0.019, duration 9.50 s\n",
      "350: reward 0.000, mean reward 0.025, duration 9.98 s\n",
      "400: reward 0.000, mean reward 0.028, duration 9.37 s\n",
      "450: reward 0.000, mean reward 0.032, duration 9.19 s\n",
      "500: reward 0.000, mean reward 0.035, duration 9.16 s\n",
      "550: reward 0.090, mean reward 0.036, duration 9.12 s\n",
      "600: reward 0.000, mean reward 0.026, duration 9.16 s\n",
      "650: reward 0.000, mean reward 0.032, duration 9.18 s\n",
      "700: reward 0.100, mean reward 0.043, duration 9.18 s\n",
      "750: reward 0.100, mean reward 0.039, duration 9.16 s\n",
      "800: reward 0.000, mean reward 0.054, duration 9.39 s\n",
      "850: reward 0.000, mean reward 0.064, duration 9.09 s\n",
      "900: reward 0.100, mean reward 0.052, duration 9.10 s\n",
      "950: reward 0.100, mean reward 0.062, duration 9.02 s\n",
      "1000: reward 0.100, mean reward 0.081, duration 9.13 s\n",
      "1050: reward 0.100, mean reward 0.076, duration 9.14 s\n",
      "1100: reward 0.100, mean reward 0.080, duration 9.14 s\n",
      "1150: reward 0.000, mean reward 0.076, duration 9.09 s\n",
      "1200: reward 0.100, mean reward 0.064, duration 9.08 s\n",
      "1250: reward 0.100, mean reward 0.071, duration 9.11 s\n",
      "1300: reward 0.090, mean reward 0.086, duration 9.41 s\n",
      "1350: reward 0.200, mean reward 0.097, duration 9.37 s\n",
      "1400: reward 0.200, mean reward 0.103, duration 9.25 s\n",
      "1450: reward 0.100, mean reward 0.102, duration 9.10 s\n",
      "1500: reward 0.100, mean reward 0.093, duration 9.17 s\n",
      "1550: reward 0.100, mean reward 0.097, duration 9.16 s\n",
      "1600: reward 0.300, mean reward 0.101, duration 9.70 s\n",
      "1650: reward 0.200, mean reward 0.107, duration 9.04 s\n",
      "1700: reward 0.090, mean reward 0.106, duration 9.09 s\n",
      "1750: reward 0.100, mean reward 0.109, duration 9.13 s\n",
      "1800: reward 0.100, mean reward 0.121, duration 9.13 s\n",
      "1850: reward 0.100, mean reward 0.125, duration 9.07 s\n",
      "1900: reward 0.100, mean reward 0.104, duration 9.07 s\n",
      "1950: reward 0.100, mean reward 0.105, duration 9.16 s\n",
      "2000: reward 0.000, mean reward 0.112, duration 9.09 s\n",
      "2050: reward 0.100, mean reward 0.112, duration 9.11 s\n",
      "2100: reward 0.090, mean reward 0.134, duration 9.13 s\n",
      "2150: reward 0.200, mean reward 0.133, duration 9.28 s\n",
      "2200: reward 0.100, mean reward 0.146, duration 9.57 s\n",
      "2250: reward 0.300, mean reward 0.167, duration 9.10 s\n",
      "2300: reward 0.200, mean reward 0.160, duration 9.30 s\n",
      "2350: reward 0.100, mean reward 0.156, duration 9.08 s\n",
      "2400: reward 0.000, mean reward 0.170, duration 9.15 s\n",
      "2450: reward 0.100, mean reward 0.166, duration 9.39 s\n",
      "2500: reward 0.200, mean reward 0.153, duration 9.35 s\n",
      "2550: reward 0.100, mean reward 0.170, duration 9.10 s\n",
      "2600: reward 0.100, mean reward 0.189, duration 9.09 s\n",
      "2650: reward 0.090, mean reward 0.185, duration 9.27 s\n",
      "2700: reward 0.100, mean reward 0.191, duration 9.05 s\n",
      "2750: reward 0.100, mean reward 0.204, duration 9.49 s\n",
      "2800: reward 0.100, mean reward 0.216, duration 9.14 s\n",
      "2850: reward 0.100, mean reward 0.221, duration 9.24 s\n",
      "2900: reward 0.200, mean reward 0.211, duration 9.34 s\n",
      "2950: reward 0.600, mean reward 0.219, duration 9.41 s\n",
      "3000: reward 0.600, mean reward 0.245, duration 9.66 s\n",
      "3050: reward 0.400, mean reward 0.300, duration 9.11 s\n",
      "3100: reward 0.400, mean reward 0.328, duration 9.13 s\n",
      "3150: reward 0.500, mean reward 0.318, duration 9.08 s\n",
      "3200: reward 0.200, mean reward 0.314, duration 9.72 s\n",
      "3250: reward 0.200, mean reward 0.313, duration 9.12 s\n",
      "3300: reward 1.300, mean reward 0.344, duration 9.16 s\n",
      "3350: reward 0.090, mean reward 0.400, duration 9.19 s\n",
      "3400: reward 0.100, mean reward 0.464, duration 9.14 s\n",
      "3450: reward 0.100, mean reward 0.448, duration 9.21 s\n",
      "3500: reward 0.100, mean reward 0.486, duration 9.16 s\n",
      "Solved in 3432 episodes\n"
     ]
    }
   ],
   "source": [
    "with RewardTracker(writer, mean_window=AVG_WIN, print_every=AVG_WIN // 2) as reward_tracker:\n",
    "    while True:\n",
    "        # collect trajectories, appending agent id to each state\n",
    "        trajectories = trajectory_collector.create_trajectories()\n",
    "\n",
    "        n_samples = trajectories['actions'].shape[0]\n",
    "        n_batches = int((n_samples + 1) / BATCH_SIZE)\n",
    "\n",
    "        idx = np.arange(n_samples)\n",
    "        np.random.shuffle(idx)\n",
    "        for k, v in trajectories.items():\n",
    "            trajectories[k] = v[idx]\n",
    "\n",
    "        # first see our rewards and then train\n",
    "        rewards = trajectory_collector.scores_by_episode[n_episodes : ]\n",
    "\n",
    "        end_time = time.time()\n",
    "        for idx_r, reward in enumerate(rewards):\n",
    "            mean_reward = reward_tracker.reward(reward, n_episodes + idx_r, end_time - start if start is not None else 0)\n",
    "\n",
    "            # we switch LR to 1e-4 after 2000 steps\n",
    "            scheduler.step()\n",
    "\n",
    "            # keep current spectacular scores\n",
    "            if reward > max_score and reward > 1:\n",
    "                torch.save(policy.state_dict(), f'checkpoint_{reward:.03f}.pth')\n",
    "                max_score = reward\n",
    "\n",
    "            if mean_reward is not None and mean_reward >= SOLVED_SCORE:\n",
    "                torch.save(policy.state_dict(), f'checkpoint_{mean_reward:.03f}.pth')\n",
    "                solved_episode = n_episodes + idx_r - AVG_WIN - 1\n",
    "                print(f\"Solved in {solved_episode if solved_episode > 0 else n_episodes + idx_r} episodes\")\n",
    "                solved = True\n",
    "                break\n",
    "\n",
    "        if solved:\n",
    "            break\n",
    "\n",
    "        start = time.time()\n",
    "        # train agents in a round-robin for the number of epochs\n",
    "        for epoch in range(EPOCHS):\n",
    "            for batch in range(n_batches):    \n",
    "\n",
    "                idx_start = BATCH_SIZE * batch\n",
    "                idx_end = idx_start + BATCH_SIZE\n",
    "\n",
    "                # select the batch of trajectory entries\n",
    "                params = [trajectories[k][idx_start : idx_end] for k in traj_attributes]\n",
    "\n",
    "                (states, actions, log_probs, advantages, returns) = params\n",
    "\n",
    "                agent.learn(log_probs, states, actions, advantages, returns)\n",
    "\n",
    "        n_episodes += len(rewards)\n"
   ]
  },
  {
   "cell_type": "markdown",
   "metadata": {},
   "source": [
    "### 5. Visualize the Results"
   ]
  },
  {
   "cell_type": "code",
   "execution_count": 13,
   "metadata": {},
   "outputs": [
    {
     "data": {
      "text/plain": [
       "[<matplotlib.lines.Line2D at 0x241c9a257f0>]"
      ]
     },
     "execution_count": 13,
     "metadata": {},
     "output_type": "execute_result"
    },
    {
     "data": {
      "image/png": "[encoded data removed]",
      "text/plain": [
       "<Figure size 432x288 with 1 Axes>"
      ]
     },
     "metadata": {
      "needs_background": "light"
     },
     "output_type": "display_data"
    }
   ],
   "source": [
    "import matplotlib.pyplot as plt\n",
    "\n",
    "fig = plt.figure()\n",
    "plt.plot(np.arange(len(reward_tracker.total_rewards)), reward_tracker.total_rewards, label='Rewards')\n",
    "\n",
    "_ = plt.ylabel('Score')\n",
    "_ = plt.xlabel('Episode #')\n",
    "_ = plt.show()"
   ]
  },
  {
   "cell_type": "markdown",
   "metadata": {},
   "source": [
    "### 6. Load trained model and give it a go"
   ]
  },
  {
   "cell_type": "code",
   "execution_count": 7,
   "metadata": {},
   "outputs": [],
   "source": [
    "policy_file = r'checkpoint_2.700.pth'\n",
    "\n",
    "state_dict_policy = torch.load(policy_file)\n",
    "agent.policy.load_state_dict(state_dict_policy)\n",
    "\n",
    "env_info = env.reset(train_mode=False)[brain_name]     # reset the environment    \n",
    "states = env_info.vector_observations                  # get the current state (for each agent)\n",
    "scores = np.zeros(num_agents)                          # initialize the score (for each agent)"
   ]
  },
  {
   "cell_type": "code",
   "execution_count": 8,
   "metadata": {},
   "outputs": [
    {
     "name": "stdout",
     "output_type": "stream",
     "text": [
      "Total volleys: 544 score (max over agents sum) this episode: 1.4000000208616257\n"
     ]
    }
   ],
   "source": [
    "n = 0\n",
    "while True:\n",
    "    actions = []\n",
    "    for i in range(num_agents):\n",
    "        actions.append(agent.act(states[i], i)) # select an action (for each agent)\n",
    "\n",
    "    actions = torch.cat(actions).cpu().numpy()\n",
    "\n",
    "    env_info = env.step(actions)[brain_name]           # send all actions to tne environment\n",
    "    next_states = env_info.vector_observations         # get next state (for each agent)\n",
    "    rewards = env_info.rewards                         # get reward (for each agent)\n",
    "    dones = env_info.local_done                        # see if episode finished\n",
    "    scores += env_info.rewards                         # update the score (for each agent)\n",
    "    states = next_states                               # roll over states to next time step\n",
    "    n += 1\n",
    "    if np.any(dones):                                  # exit loop if episode finished\n",
    "        break\n",
    "print(f'Total volleys: {n} score (max over agents sum) this episode: {np.max(scores)}')"
   ]
  }
 ],
 "metadata": {
  "kernelspec": {
   "display_name": "Python 3",
   "language": "python",
   "name": "python3"
  },
  "language_info": {
   "codemirror_mode": {
    "name": "ipython",
    "version": 3
   },
   "file_extension": ".py",
   "mimetype": "text/x-python",
   "name": "python",
   "nbconvert_exporter": "python",
   "pygments_lexer": "ipython3",
   "version": "3.6.7"
  }
 },
 "nbformat": 4,
 "nbformat_minor": 2
}
